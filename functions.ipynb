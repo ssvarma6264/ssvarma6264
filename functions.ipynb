{
  "nbformat": 4,
  "nbformat_minor": 0,
  "metadata": {
    "colab": {
      "provenance": [],
      "collapsed_sections": [],
      "authorship_tag": "ABX9TyOaXUYG3OgEobyMBIyYcQyZ",
      "include_colab_link": true
    },
    "kernelspec": {
      "name": "python3",
      "display_name": "Python 3"
    },
    "language_info": {
      "name": "python"
    }
  },
  "cells": [
    {
      "cell_type": "markdown",
      "metadata": {
        "id": "view-in-github",
        "colab_type": "text"
      },
      "source": [
        "<a href=\"https://colab.research.google.com/github/ssvarma6264/ssvarma6264/blob/main/functions.ipynb\" target=\"_parent\"><img src=\"https://colab.research.google.com/assets/colab-badge.svg\" alt=\"Open In Colab\"/></a>"
      ]
    },
    {
      "cell_type": "code",
      "execution_count": null,
      "metadata": {
        "id": "K_jDy7yoJzz5"
      },
      "outputs": [],
      "source": [
        "# to increase the reusability of the code"
      ]
    },
    {
      "cell_type": "code",
      "source": [
        "def test():\n",
        "  pass"
      ],
      "metadata": {
        "id": "iO68Sa1YKHZA"
      },
      "execution_count": null,
      "outputs": []
    },
    {
      "cell_type": "code",
      "source": [
        "def test1():\n",
        "  print(\"this is my very first function  in python\")"
      ],
      "metadata": {
        "id": "wYNOdp4MLPRA"
      },
      "execution_count": null,
      "outputs": []
    },
    {
      "cell_type": "code",
      "source": [
        "test1()"
      ],
      "metadata": {
        "colab": {
          "base_uri": "https://localhost:8080/"
        },
        "id": "_0eAr4yELYLd",
        "outputId": "97d2888d-2d59-48d2-b149-31d561a9ccb6"
      },
      "execution_count": null,
      "outputs": [
        {
          "output_type": "stream",
          "name": "stdout",
          "text": [
            "this is my very first function  in python\n"
          ]
        }
      ]
    },
    {
      "cell_type": "code",
      "source": [
        "b = test1()"
      ],
      "metadata": {
        "colab": {
          "base_uri": "https://localhost:8080/"
        },
        "id": "VeGmdgtRLnkn",
        "outputId": "8a8d8096-d5af-42ba-84dd-434eb1d9efaa"
      },
      "execution_count": null,
      "outputs": [
        {
          "output_type": "stream",
          "name": "stdout",
          "text": [
            "this is my very first function  in python\n"
          ]
        }
      ]
    },
    {
      "cell_type": "code",
      "source": [
        "b"
      ],
      "metadata": {
        "id": "rrZW3MQJL5Iq"
      },
      "execution_count": null,
      "outputs": []
    },
    {
      "cell_type": "code",
      "source": [
        "print(b)"
      ],
      "metadata": {
        "colab": {
          "base_uri": "https://localhost:8080/"
        },
        "id": "U9EYMJELL7kg",
        "outputId": "6e8f7116-c7d5-466d-d548-6116e82d94bf"
      },
      "execution_count": null,
      "outputs": [
        {
          "output_type": "stream",
          "name": "stdout",
          "text": [
            "None\n"
          ]
        }
      ]
    },
    {
      "cell_type": "code",
      "source": [
        "type(b)"
      ],
      "metadata": {
        "colab": {
          "base_uri": "https://localhost:8080/"
        },
        "id": "xHv8Os7tMuY3",
        "outputId": "9fffc884-0933-4668-c5f7-56d89624d35e"
      },
      "execution_count": null,
      "outputs": [
        {
          "output_type": "execute_result",
          "data": {
            "text/plain": [
              "NoneType"
            ]
          },
          "metadata": {},
          "execution_count": 13
        }
      ]
    },
    {
      "cell_type": "code",
      "source": [
        "type(test1())"
      ],
      "metadata": {
        "colab": {
          "base_uri": "https://localhost:8080/"
        },
        "id": "uqKQAnJtM2DE",
        "outputId": "26766345-1413-49a6-9634-7f21a3094ba1"
      },
      "execution_count": null,
      "outputs": [
        {
          "output_type": "stream",
          "name": "stdout",
          "text": [
            "this is my very first function  in python\n"
          ]
        },
        {
          "output_type": "execute_result",
          "data": {
            "text/plain": [
              "NoneType"
            ]
          },
          "metadata": {},
          "execution_count": 14
        }
      ]
    },
    {
      "cell_type": "code",
      "source": [
        "c = \"kumar\"\n",
        "c"
      ],
      "metadata": {
        "colab": {
          "base_uri": "https://localhost:8080/",
          "height": 37
        },
        "id": "e8-gvfE5L9fo",
        "outputId": "70d24b58-8a19-45f1-c3be-0e5c81023d57"
      },
      "execution_count": null,
      "outputs": [
        {
          "output_type": "execute_result",
          "data": {
            "text/plain": [
              "'kumar'"
            ],
            "application/vnd.google.colaboratory.intrinsic+json": {
              "type": "string"
            }
          },
          "metadata": {},
          "execution_count": 11
        }
      ]
    },
    {
      "cell_type": "code",
      "source": [
        "type(c)"
      ],
      "metadata": {
        "colab": {
          "base_uri": "https://localhost:8080/"
        },
        "id": "ho6vjiaEMfgF",
        "outputId": "7f7b991b-76d4-4864-9874-541a5288ad17"
      },
      "execution_count": null,
      "outputs": [
        {
          "output_type": "execute_result",
          "data": {
            "text/plain": [
              "str"
            ]
          },
          "metadata": {},
          "execution_count": 12
        }
      ]
    },
    {
      "cell_type": "code",
      "source": [
        "def test2():\n",
        "\n",
        " return 5"
      ],
      "metadata": {
        "id": "3SuAV35FMmWO"
      },
      "execution_count": null,
      "outputs": []
    },
    {
      "cell_type": "code",
      "source": [
        "test2()"
      ],
      "metadata": {
        "colab": {
          "base_uri": "https://localhost:8080/"
        },
        "id": "CQrmMyNRNPJV",
        "outputId": "212fc5c6-21ad-4058-ea42-3aa10cc62489"
      },
      "execution_count": null,
      "outputs": [
        {
          "output_type": "execute_result",
          "data": {
            "text/plain": [
              "5"
            ]
          },
          "metadata": {},
          "execution_count": 17
        }
      ]
    },
    {
      "cell_type": "code",
      "source": [
        "d = test2()"
      ],
      "metadata": {
        "id": "ItZsrlaaNToB"
      },
      "execution_count": null,
      "outputs": []
    },
    {
      "cell_type": "code",
      "source": [
        "d"
      ],
      "metadata": {
        "colab": {
          "base_uri": "https://localhost:8080/"
        },
        "id": "Zy5lHFPcNVx0",
        "outputId": "0deb1384-79db-44df-f3ad-ea4e8579affc"
      },
      "execution_count": null,
      "outputs": [
        {
          "output_type": "execute_result",
          "data": {
            "text/plain": [
              "5"
            ]
          },
          "metadata": {},
          "execution_count": 19
        }
      ]
    },
    {
      "cell_type": "code",
      "source": [
        "def test3():\n",
        "  return 5"
      ],
      "metadata": {
        "id": "FHCOck-WNWhS"
      },
      "execution_count": null,
      "outputs": []
    },
    {
      "cell_type": "code",
      "source": [
        "def test4():\n",
        "  print(\"this is my print return\")"
      ],
      "metadata": {
        "id": "FdWBIPNzNptd"
      },
      "execution_count": null,
      "outputs": []
    },
    {
      "cell_type": "code",
      "source": [
        "test3()"
      ],
      "metadata": {
        "colab": {
          "base_uri": "https://localhost:8080/"
        },
        "id": "MmaA7gOlNsoy",
        "outputId": "9fe05c54-ed7b-4a2e-ea3c-c9b480420ff0"
      },
      "execution_count": null,
      "outputs": [
        {
          "output_type": "execute_result",
          "data": {
            "text/plain": [
              "5"
            ]
          },
          "metadata": {},
          "execution_count": 23
        }
      ]
    },
    {
      "cell_type": "code",
      "source": [
        "test4()"
      ],
      "metadata": {
        "colab": {
          "base_uri": "https://localhost:8080/"
        },
        "id": "uj90MT7dN0VC",
        "outputId": "85519dc4-d856-45db-9e56-c2527bc60883"
      },
      "execution_count": null,
      "outputs": [
        {
          "output_type": "stream",
          "name": "stdout",
          "text": [
            "this is my print return\n"
          ]
        }
      ]
    },
    {
      "cell_type": "code",
      "source": [
        "e = test4()"
      ],
      "metadata": {
        "colab": {
          "base_uri": "https://localhost:8080/"
        },
        "id": "0D_GzUcvOTQN",
        "outputId": "9884a540-2761-4ebc-9e1d-c97a4ca1288d"
      },
      "execution_count": null,
      "outputs": [
        {
          "output_type": "stream",
          "name": "stdout",
          "text": [
            "this is my print return\n"
          ]
        }
      ]
    },
    {
      "cell_type": "code",
      "source": [
        "e"
      ],
      "metadata": {
        "id": "YKUHZCrDOWro"
      },
      "execution_count": null,
      "outputs": []
    },
    {
      "cell_type": "code",
      "source": [
        "e + \"varma\""
      ],
      "metadata": {
        "colab": {
          "base_uri": "https://localhost:8080/",
          "height": 171
        },
        "id": "dkJgQv2aOYTm",
        "outputId": "0377923e-1b78-45ca-b42b-5127a6abf1c0"
      },
      "execution_count": null,
      "outputs": [
        {
          "output_type": "error",
          "ename": "TypeError",
          "evalue": "ignored",
          "traceback": [
            "\u001b[0;31m---------------------------------------------------------------------------\u001b[0m",
            "\u001b[0;31mTypeError\u001b[0m                                 Traceback (most recent call last)",
            "\u001b[0;32m<ipython-input-27-2a4f2a295a63>\u001b[0m in \u001b[0;36m<module>\u001b[0;34m\u001b[0m\n\u001b[0;32m----> 1\u001b[0;31m \u001b[0me\u001b[0m \u001b[0;34m+\u001b[0m \u001b[0;34m\"varma\"\u001b[0m\u001b[0;34m\u001b[0m\u001b[0;34m\u001b[0m\u001b[0m\n\u001b[0m",
            "\u001b[0;31mTypeError\u001b[0m: unsupported operand type(s) for +: 'NoneType' and 'str'"
          ]
        }
      ]
    },
    {
      "cell_type": "code",
      "source": [
        "def test3():\n",
        "  return \"sudh\""
      ],
      "metadata": {
        "id": "ao9-T4vsOkJO"
      },
      "execution_count": null,
      "outputs": []
    },
    {
      "cell_type": "code",
      "source": [
        "test3() + \"kumar\""
      ],
      "metadata": {
        "colab": {
          "base_uri": "https://localhost:8080/",
          "height": 37
        },
        "id": "m_0ogO_1ObTb",
        "outputId": "b31f35a0-d5a4-43ba-af2d-0039ee3ae689"
      },
      "execution_count": null,
      "outputs": [
        {
          "output_type": "execute_result",
          "data": {
            "text/plain": [
              "'sudhkumar'"
            ],
            "application/vnd.google.colaboratory.intrinsic+json": {
              "type": "string"
            }
          },
          "metadata": {},
          "execution_count": 30
        }
      ]
    },
    {
      "cell_type": "code",
      "source": [
        "def varma():\n",
        "  return 1,3,5,[5,7,\"varma\"],(9,0)\n"
      ],
      "metadata": {
        "id": "Z1mh3xPvN1gN"
      },
      "execution_count": null,
      "outputs": []
    },
    {
      "cell_type": "code",
      "source": [
        "varma()"
      ],
      "metadata": {
        "colab": {
          "base_uri": "https://localhost:8080/"
        },
        "id": "Ng4MfaRZPZrK",
        "outputId": "6cff4a6d-8f98-4744-d6fb-39b7de685654"
      },
      "execution_count": null,
      "outputs": [
        {
          "output_type": "execute_result",
          "data": {
            "text/plain": [
              "(1, 3, 5, [5, 7, 'varma'], (9, 0))"
            ]
          },
          "metadata": {},
          "execution_count": 32
        }
      ]
    },
    {
      "cell_type": "code",
      "source": [
        "type(varma())"
      ],
      "metadata": {
        "colab": {
          "base_uri": "https://localhost:8080/"
        },
        "id": "ikuYasokPa5o",
        "outputId": "5a5150d2-d665-48e2-d7d9-1e5e7856c67b"
      },
      "execution_count": null,
      "outputs": [
        {
          "output_type": "execute_result",
          "data": {
            "text/plain": [
              "tuple"
            ]
          },
          "metadata": {},
          "execution_count": 33
        }
      ]
    },
    {
      "cell_type": "code",
      "source": [
        "#multiple return types it gives tuple"
      ],
      "metadata": {
        "id": "WHXerrgsPdD3"
      },
      "execution_count": null,
      "outputs": []
    },
    {
      "cell_type": "code",
      "source": [
        "varma()[1]"
      ],
      "metadata": {
        "colab": {
          "base_uri": "https://localhost:8080/"
        },
        "id": "1QOAa17_P0nh",
        "outputId": "457bbe35-2bd2-42d2-a93c-8d1d3140d418"
      },
      "execution_count": null,
      "outputs": [
        {
          "output_type": "execute_result",
          "data": {
            "text/plain": [
              "3"
            ]
          },
          "metadata": {},
          "execution_count": 35
        }
      ]
    },
    {
      "cell_type": "code",
      "source": [
        "def thahimina():\n",
        "  return 1,3,5,[5,7,\"varma\"],(9,0)\n"
      ],
      "metadata": {
        "id": "FxdbLqHsQErj"
      },
      "execution_count": null,
      "outputs": []
    },
    {
      "cell_type": "code",
      "source": [
        "a,b,c,d,e = thahimina()"
      ],
      "metadata": {
        "id": "Do6FiHkgQi-Z"
      },
      "execution_count": null,
      "outputs": []
    },
    {
      "cell_type": "code",
      "source": [
        "b"
      ],
      "metadata": {
        "colab": {
          "base_uri": "https://localhost:8080/"
        },
        "id": "zYsughgQQlg9",
        "outputId": "edaf3c2b-349c-4906-ed73-20db31b5b460"
      },
      "execution_count": null,
      "outputs": [
        {
          "output_type": "execute_result",
          "data": {
            "text/plain": [
              "3"
            ]
          },
          "metadata": {},
          "execution_count": 40
        }
      ]
    },
    {
      "cell_type": "code",
      "source": [
        "d[2]"
      ],
      "metadata": {
        "colab": {
          "base_uri": "https://localhost:8080/",
          "height": 37
        },
        "id": "xgfeVj4zQz4u",
        "outputId": "b027e52c-88e4-4525-aa6f-567c416f616a"
      },
      "execution_count": null,
      "outputs": [
        {
          "output_type": "execute_result",
          "data": {
            "text/plain": [
              "'varma'"
            ],
            "application/vnd.google.colaboratory.intrinsic+json": {
              "type": "string"
            }
          },
          "metadata": {},
          "execution_count": 41
        }
      ]
    },
    {
      "cell_type": "code",
      "source": [
        "def test8():\n",
        "  a = 4*5+8\n",
        "  return a"
      ],
      "metadata": {
        "id": "wh9IlY-1Q3U8"
      },
      "execution_count": null,
      "outputs": []
    },
    {
      "cell_type": "code",
      "source": [
        "test8()+6"
      ],
      "metadata": {
        "colab": {
          "base_uri": "https://localhost:8080/"
        },
        "id": "bUYgQfO7RQXR",
        "outputId": "e7f76d0b-d76c-485e-9871-fa08f7c31bf8"
      },
      "execution_count": null,
      "outputs": [
        {
          "output_type": "execute_result",
          "data": {
            "text/plain": [
              "34"
            ]
          },
          "metadata": {},
          "execution_count": 46
        }
      ]
    },
    {
      "cell_type": "code",
      "source": [
        "def test9(l):\n",
        "  l = [2,3,4,5,6,7,8,9]\n",
        "  a = 0\n",
        "  for i in l:\n",
        "   a = i+a\n",
        "  return a\n"
      ],
      "metadata": {
        "id": "E2DBi2mmRh7R"
      },
      "execution_count": null,
      "outputs": []
    },
    {
      "cell_type": "code",
      "source": [
        "test9(l)"
      ],
      "metadata": {
        "colab": {
          "base_uri": "https://localhost:8080/"
        },
        "id": "HmrRkNxLSVwc",
        "outputId": "e98dd7d8-b1a9-4080-b00f-4010643d9d42"
      },
      "execution_count": null,
      "outputs": [
        {
          "output_type": "execute_result",
          "data": {
            "text/plain": [
              "44"
            ]
          },
          "metadata": {},
          "execution_count": 83
        }
      ]
    },
    {
      "cell_type": "code",
      "source": [
        "def test11(a,b):\n",
        "  return a+b"
      ],
      "metadata": {
        "id": "yK23-3ODU2CP"
      },
      "execution_count": null,
      "outputs": []
    },
    {
      "cell_type": "code",
      "source": [
        "test11(2,2)"
      ],
      "metadata": {
        "colab": {
          "base_uri": "https://localhost:8080/"
        },
        "id": "efDvmRG-VSKr",
        "outputId": "538b38d9-31be-4fc4-cfd5-5d60e4685c57"
      },
      "execution_count": null,
      "outputs": [
        {
          "output_type": "execute_result",
          "data": {
            "text/plain": [
              "4"
            ]
          },
          "metadata": {},
          "execution_count": 75
        }
      ]
    },
    {
      "cell_type": "code",
      "source": [],
      "metadata": {
        "id": "i1LmSs1rj9BT"
      },
      "execution_count": null,
      "outputs": []
    },
    {
      "cell_type": "code",
      "source": [
        "test11(\"varma\" , \"thahimina\")"
      ],
      "metadata": {
        "colab": {
          "base_uri": "https://localhost:8080/",
          "height": 37
        },
        "id": "Il5ZWPUkVVe7",
        "outputId": "1669d633-452f-4b0e-f905-dcab4eae7696"
      },
      "execution_count": null,
      "outputs": [
        {
          "output_type": "execute_result",
          "data": {
            "text/plain": [
              "'varmathahimina'"
            ],
            "application/vnd.google.colaboratory.intrinsic+json": {
              "type": "string"
            }
          },
          "metadata": {},
          "execution_count": 80
        }
      ]
    },
    {
      "cell_type": "code",
      "source": [
        "test11(b = 8,a=5)"
      ],
      "metadata": {
        "colab": {
          "base_uri": "https://localhost:8080/"
        },
        "id": "AQ5eAbAxV-nS",
        "outputId": "c957baa2-206c-4f3f-816f-fc45549b0f7e"
      },
      "execution_count": null,
      "outputs": [
        {
          "output_type": "execute_result",
          "data": {
            "text/plain": [
              "13"
            ]
          },
          "metadata": {},
          "execution_count": 81
        }
      ]
    },
    {
      "cell_type": "code",
      "source": [
        "l = \"varma\""
      ],
      "metadata": {
        "id": "HjJhkEjWa9BF"
      },
      "execution_count": null,
      "outputs": []
    },
    {
      "cell_type": "code",
      "source": [
        "def test13(l):\n",
        "     count = 0\n",
        "     for i in l:\n",
        "        count += 1\n",
        "     return count"
      ],
      "metadata": {
        "id": "kYkAIj2Oa6ej"
      },
      "execution_count": null,
      "outputs": []
    },
    {
      "cell_type": "code",
      "source": [
        "test13(l)"
      ],
      "metadata": {
        "colab": {
          "base_uri": "https://localhost:8080/"
        },
        "id": "3kjiqIcac1oo",
        "outputId": "cff9577c-575e-4648-e1d9-d959e2b46f31"
      },
      "execution_count": null,
      "outputs": [
        {
          "output_type": "execute_result",
          "data": {
            "text/plain": [
              "5"
            ]
          },
          "metadata": {},
          "execution_count": 112
        }
      ]
    },
    {
      "cell_type": "markdown",
      "source": [
        "### 1. write a function which will try to find out len of a string without using an inbuilt len function \n",
        "2. write a function which  will be able to print an index of list element without using an index function\n",
        "3. write a function which will be able to print an ip address of your system\n",
        "4. write a function which will shutdown your system\n",
        "5. write a function which will take input as a list with any kind of numeric value and give an out as a multiplication of \n",
        "all the numeric data l = [3.5, 6.56, 4,5,\"sudh\" , \"ineuron\" , 'fsda bootcamp 2.0']\n",
        "6. write a function which will be able to read all the mails \n",
        "7 . write a function which will be able to send a mail to anyone \n",
        "8. write a function which will be able to read a doc/word file from your system \n",
        "\n",
        "you are suppose to complete this by oct 30th before your \n",
        "live class and you have to send a solution at mail id - query@ineuron.ai\n",
        "submit your git link to mail "
      ],
      "metadata": {
        "id": "8OMBW-6dLKUE"
      }
    },
    {
      "cell_type": "code",
      "source": [
        "def test10(l):\n",
        "    a = 0\n",
        "    for i in l :\n",
        "        if type(i) == int:\n",
        "            a = i+a\n",
        "    return a"
      ],
      "metadata": {
        "id": "XFs_X9O0sKcu"
      },
      "execution_count": 1,
      "outputs": []
    },
    {
      "cell_type": "code",
      "source": [
        "l1 = [1,3,4,7,8,3]"
      ],
      "metadata": {
        "id": "BDKY50aIOSOl"
      },
      "execution_count": 2,
      "outputs": []
    },
    {
      "cell_type": "code",
      "source": [
        "test10(l1)"
      ],
      "metadata": {
        "colab": {
          "base_uri": "https://localhost:8080/"
        },
        "id": "sA01AYTPOV0I",
        "outputId": "8317375b-a826-47f8-826a-f82f18581f02"
      },
      "execution_count": 3,
      "outputs": [
        {
          "output_type": "execute_result",
          "data": {
            "text/plain": [
              "26"
            ]
          },
          "metadata": {},
          "execution_count": 3
        }
      ]
    },
    {
      "cell_type": "code",
      "source": [
        "#1\n",
        "def test(s):\n",
        "  \"\"\"this is a program which will help u to find the length of the string\"\"\"\n",
        "  count = 0\n",
        "  for i in s:\n",
        "    if type(i) == str:\n",
        "      count = count +1\n",
        "  return count\n"
      ],
      "metadata": {
        "id": "DZHjsgPiObGA"
      },
      "execution_count": 11,
      "outputs": []
    },
    {
      "cell_type": "code",
      "source": [
        "test(\"sudh\")"
      ],
      "metadata": {
        "colab": {
          "base_uri": "https://localhost:8080/"
        },
        "id": "Qxi83zPXTcxd",
        "outputId": "e521c8ee-4ff3-47b6-a493-07d2ddb5a4b2"
      },
      "execution_count": 12,
      "outputs": [
        {
          "output_type": "execute_result",
          "data": {
            "text/plain": [
              "4"
            ]
          },
          "metadata": {},
          "execution_count": 12
        }
      ]
    },
    {
      "cell_type": "code",
      "source": [
        "test(\"thahimina\")"
      ],
      "metadata": {
        "colab": {
          "base_uri": "https://localhost:8080/"
        },
        "id": "YNmJHxruTe1t",
        "outputId": "ff8b09f3-abd9-4386-c4ab-95e5661faf80"
      },
      "execution_count": 13,
      "outputs": [
        {
          "output_type": "execute_result",
          "data": {
            "text/plain": [
              "9"
            ]
          },
          "metadata": {},
          "execution_count": 13
        }
      ]
    },
    {
      "cell_type": "code",
      "source": [
        "a = \"thahimina\""
      ],
      "metadata": {
        "id": "yE9GplhyTmOF"
      },
      "execution_count": 14,
      "outputs": []
    },
    {
      "cell_type": "code",
      "source": [
        "test(a)"
      ],
      "metadata": {
        "colab": {
          "base_uri": "https://localhost:8080/"
        },
        "id": "R8lJ1VaATocP",
        "outputId": "a943548b-9988-4430-8122-f28d7f51d4d4"
      },
      "execution_count": 15,
      "outputs": [
        {
          "output_type": "execute_result",
          "data": {
            "text/plain": [
              "9"
            ]
          },
          "metadata": {},
          "execution_count": 15
        }
      ]
    },
    {
      "cell_type": "code",
      "source": [
        "b = \"varma\""
      ],
      "metadata": {
        "id": "f5O_1xaWTpd4"
      },
      "execution_count": 16,
      "outputs": []
    },
    {
      "cell_type": "code",
      "source": [
        "test(b)"
      ],
      "metadata": {
        "colab": {
          "base_uri": "https://localhost:8080/"
        },
        "id": "Kx6jpR64TtK3",
        "outputId": "43747fb5-af73-493a-afa0-a18f0d1ed420"
      },
      "execution_count": 17,
      "outputs": [
        {
          "output_type": "execute_result",
          "data": {
            "text/plain": [
              "5"
            ]
          },
          "metadata": {},
          "execution_count": 17
        }
      ]
    },
    {
      "cell_type": "code",
      "source": [
        "#2"
      ],
      "metadata": {
        "id": "HwXZZ9q3TuFM"
      },
      "execution_count": 18,
      "outputs": []
    },
    {
      "cell_type": "code",
      "source": [
        "z = [1,2,3,4,\"varma\",\"thahimina\"]\n",
        "\n",
        "\n",
        "  \n"
      ],
      "metadata": {
        "id": "iPZCJyHNT8ZF"
      },
      "execution_count": 30,
      "outputs": []
    },
    {
      "cell_type": "code",
      "source": [
        "def test1(li):\n",
        "  for i in range(0,len(li)):\n",
        "    print(li[i] ,\":\",i)"
      ],
      "metadata": {
        "id": "ONb3oQ-oXBya"
      },
      "execution_count": 33,
      "outputs": []
    },
    {
      "cell_type": "code",
      "source": [
        "test1(z)"
      ],
      "metadata": {
        "colab": {
          "base_uri": "https://localhost:8080/"
        },
        "id": "2AbY6KCdV1U-",
        "outputId": "8b3d7a64-9d87-4fef-da25-951c1198f49f"
      },
      "execution_count": 34,
      "outputs": [
        {
          "output_type": "stream",
          "name": "stdout",
          "text": [
            "1 : 0\n",
            "2 : 1\n",
            "3 : 2\n",
            "4 : 3\n",
            "varma : 4\n",
            "thahimina : 5\n"
          ]
        }
      ]
    },
    {
      "cell_type": "code",
      "source": [
        "l = [1,2,3,4,\"varma\",\"thahimina\"]\n",
        "def test1(li):\n",
        "  for i in range(0,test(li)):\n",
        "    print(li[i] ,\":\",i)\n",
        "  \n"
      ],
      "metadata": {
        "id": "LuH9nqplV81C"
      },
      "execution_count": 35,
      "outputs": []
    },
    {
      "cell_type": "code",
      "source": [
        "test1(l)"
      ],
      "metadata": {
        "colab": {
          "base_uri": "https://localhost:8080/"
        },
        "id": "5ZgLeFhiWFit",
        "outputId": "0b22c42d-7f6a-4965-e53e-453ed4448f9d"
      },
      "execution_count": 36,
      "outputs": [
        {
          "output_type": "stream",
          "name": "stdout",
          "text": [
            "1 : 0\n",
            "2 : 1\n"
          ]
        }
      ]
    },
    {
      "cell_type": "code",
      "source": [
        "#3"
      ],
      "metadata": {
        "id": "Cx1ZLEhiWHPb"
      },
      "execution_count": 29,
      "outputs": []
    },
    {
      "cell_type": "code",
      "source": [
        "import socket\n",
        "socket.gethostbyname(socket.gethostname())"
      ],
      "metadata": {
        "colab": {
          "base_uri": "https://localhost:8080/",
          "height": 37
        },
        "id": "lozz9ubUWnY0",
        "outputId": "172c8c69-29d6-4bc5-ebe8-3fbbb4e53e87"
      },
      "execution_count": 38,
      "outputs": [
        {
          "output_type": "execute_result",
          "data": {
            "text/plain": [
              "'172.28.0.2'"
            ],
            "application/vnd.google.colaboratory.intrinsic+json": {
              "type": "string"
            }
          },
          "metadata": {},
          "execution_count": 38
        }
      ]
    },
    {
      "cell_type": "code",
      "source": [
        "#4"
      ],
      "metadata": {
        "id": "6wU1T-g-XbdX"
      },
      "execution_count": 39,
      "outputs": []
    },
    {
      "cell_type": "code",
      "source": [
        "import os\n",
        "os.system(\"shutdown /s /t 4\")\n",
        "\n",
        "## /s is shutdown\n",
        "## /r is restart\n",
        "## /t is timer"
      ],
      "metadata": {
        "colab": {
          "base_uri": "https://localhost:8080/"
        },
        "id": "VoXp6b_dZBQF",
        "outputId": "b2e8baaa-2fc1-485c-a546-13f1b623907c"
      },
      "execution_count": 73,
      "outputs": [
        {
          "output_type": "execute_result",
          "data": {
            "text/plain": [
              "256"
            ]
          },
          "metadata": {},
          "execution_count": 73
        }
      ]
    },
    {
      "cell_type": "code",
      "source": [
        "#5"
      ],
      "metadata": {
        "id": "BwsJ4rbUYT4w"
      },
      "execution_count": 40,
      "outputs": []
    },
    {
      "cell_type": "code",
      "source": [
        "l = [3.5, 6.56, 4,5,\"sudh\" , \"ineuron\" , 'fsda bootcamp 2.0']\n",
        "def test3(l):\n",
        "  mul = 1\n",
        "  for i in l:\n",
        "    if type(i) == int or type(i) == float:\n",
        "      mul = mul * i\n",
        "  return mul"
      ],
      "metadata": {
        "id": "Y9rtvIG3ZOO1"
      },
      "execution_count": 48,
      "outputs": []
    },
    {
      "cell_type": "code",
      "source": [
        "test3(l)"
      ],
      "metadata": {
        "colab": {
          "base_uri": "https://localhost:8080/"
        },
        "id": "FftN1dAdaFSL",
        "outputId": "00d368cb-e64c-41be-d491-8c329034bde1"
      },
      "execution_count": 49,
      "outputs": [
        {
          "output_type": "execute_result",
          "data": {
            "text/plain": [
              "459.19999999999993"
            ]
          },
          "metadata": {},
          "execution_count": 49
        }
      ]
    },
    {
      "cell_type": "code",
      "source": [
        "#6"
      ],
      "metadata": {
        "id": "Ytt81FQ4aHse"
      },
      "execution_count": 47,
      "outputs": []
    },
    {
      "cell_type": "code",
      "source": [
        "import smtplib\n",
        "import time\n",
        "import imaplib\n",
        "import email\n",
        "ORG_EMAIL = \"@gmail.com\" \n",
        "FROM_EMAIL = 'ssvarma6264@gmail.com'\n",
        "FROM_PWD = 'wtjtjmrqseinpqkp'\n",
        "SMTP_SERVER = \"imap.gmail.com\" \n",
        "SMTP_PORT = 993\n",
        "imaplib._MAXLINE = 400000000\n",
        "\n",
        "def read_email_from_gmail():\n",
        "    try:\n",
        "        mail = imaplib.IMAP4_SSL(SMTP_SERVER)\n",
        "        mail.login(FROM_EMAIL,FROM_PWD)\n",
        "        mail.select('inbox')\n",
        "\n",
        "        data = mail.search(None, 'ALL')\n",
        "        mail_ids = data[1]\n",
        "        id_list = mail_ids[0].split()   \n",
        "        first_email_id = int(id_list[0])\n",
        "        latest_email_id = int(id_list[-1])\n",
        "\n",
        "        for i in range(latest_email_id,first_email_id, -1):\n",
        "            data = mail.fetch(str(i), '(RFC822)' )\n",
        "            for response_part in data:\n",
        "                arr = response_part[0]\n",
        "                if isinstance(arr, tuple):\n",
        "                    msg = email.message_from_string(str(arr[1],'utf-8'))\n",
        "                    email_subject = msg['subject']\n",
        "                    email_from = msg['from']\n",
        "                    print('From : ' + email_from + '\\n')\n",
        "                    print('Subject : ' + email_subject + '\\n')\n",
        "\n",
        "    except Exception as e:\n",
        "        traceback.print_exc() \n",
        "        print(str(e))\n",
        "\n",
        "read_email_from_gmail()"
      ],
      "metadata": {
        "colab": {
          "base_uri": "https://localhost:8080/",
          "height": 921
        },
        "id": "ivZqoNp9ayoL",
        "outputId": "70068660-3892-4f13-c2a9-2048db4f1fc7"
      },
      "execution_count": 70,
      "outputs": [
        {
          "output_type": "stream",
          "name": "stdout",
          "text": [
            "From : Google <no-reply@accounts.google.com>\n",
            "\n",
            "Subject : Security alert\n",
            "\n",
            "From : Google <no-reply@accounts.google.com>\n",
            "\n",
            "Subject : Security alert\n",
            "\n",
            "From : Naukri Alerts <naukrimyalerts@naukri.com>\n",
            "\n",
            "Subject : New job - Greetings For Private Sector Bank In Tamil Nadu | More jobs matching your Custom Job Alert - Amazon Hiring For Digital Associate Chennai\n",
            "\n",
            "From : \"Apollo24l7\" <update@promos.apollo247.com>\n",
            "\n",
            "Subject : This 💊 Is A 🧠 & 🫀 Health Booster!  \n",
            "\n",
            "From : Naukri Alerts <naukrimyalerts@naukri.com>\n",
            "\n",
            "Subject : New job - Non Voice Associate | More jobs matching your Custom Job Alert - Hiring Freshers For Associate Payments\n",
            "\n",
            "From : HDFC Bank <Information@hdfcbank.net>\n",
            "\n",
            "Subject : 24*7 Saving on Amazon, Flipkart, Swiggy on MoneyBack+ Credit Card\n",
            " =?UTF-8?Q?=F0=9F=92=B3!=C2=A0Sindiri=C2=A0get?= your Credit Card\n",
            " =?UTF-8?Q?=F0=9F=92=B3?= Now\n",
            "\n"
          ]
        },
        {
          "output_type": "error",
          "ename": "NameError",
          "evalue": "ignored",
          "traceback": [
            "\u001b[0;31m---------------------------------------------------------------------------\u001b[0m",
            "\u001b[0;31mUnicodeDecodeError\u001b[0m                        Traceback (most recent call last)",
            "\u001b[0;32m<ipython-input-70-c9a0efdb7271>\u001b[0m in \u001b[0;36mread_email_from_gmail\u001b[0;34m()\u001b[0m\n\u001b[1;32m     28\u001b[0m                 \u001b[0;32mif\u001b[0m \u001b[0misinstance\u001b[0m\u001b[0;34m(\u001b[0m\u001b[0marr\u001b[0m\u001b[0;34m,\u001b[0m \u001b[0mtuple\u001b[0m\u001b[0;34m)\u001b[0m\u001b[0;34m:\u001b[0m\u001b[0;34m\u001b[0m\u001b[0;34m\u001b[0m\u001b[0m\n\u001b[0;32m---> 29\u001b[0;31m                     \u001b[0mmsg\u001b[0m \u001b[0;34m=\u001b[0m \u001b[0memail\u001b[0m\u001b[0;34m.\u001b[0m\u001b[0mmessage_from_string\u001b[0m\u001b[0;34m(\u001b[0m\u001b[0mstr\u001b[0m\u001b[0;34m(\u001b[0m\u001b[0marr\u001b[0m\u001b[0;34m[\u001b[0m\u001b[0;36m1\u001b[0m\u001b[0;34m]\u001b[0m\u001b[0;34m,\u001b[0m\u001b[0;34m'utf-8'\u001b[0m\u001b[0;34m)\u001b[0m\u001b[0;34m)\u001b[0m\u001b[0;34m\u001b[0m\u001b[0;34m\u001b[0m\u001b[0m\n\u001b[0m\u001b[1;32m     30\u001b[0m                     \u001b[0memail_subject\u001b[0m \u001b[0;34m=\u001b[0m \u001b[0mmsg\u001b[0m\u001b[0;34m[\u001b[0m\u001b[0;34m'subject'\u001b[0m\u001b[0;34m]\u001b[0m\u001b[0;34m\u001b[0m\u001b[0;34m\u001b[0m\u001b[0m\n",
            "\u001b[0;31mUnicodeDecodeError\u001b[0m: 'utf-8' codec can't decode byte 0xa0 in position 6981: invalid start byte",
            "\nDuring handling of the above exception, another exception occurred:\n",
            "\u001b[0;31mNameError\u001b[0m                                 Traceback (most recent call last)",
            "\u001b[0;32m<ipython-input-70-c9a0efdb7271>\u001b[0m in \u001b[0;36m<module>\u001b[0;34m\u001b[0m\n\u001b[1;32m     37\u001b[0m         \u001b[0mprint\u001b[0m\u001b[0;34m(\u001b[0m\u001b[0mstr\u001b[0m\u001b[0;34m(\u001b[0m\u001b[0me\u001b[0m\u001b[0;34m)\u001b[0m\u001b[0;34m)\u001b[0m\u001b[0;34m\u001b[0m\u001b[0;34m\u001b[0m\u001b[0m\n\u001b[1;32m     38\u001b[0m \u001b[0;34m\u001b[0m\u001b[0m\n\u001b[0;32m---> 39\u001b[0;31m \u001b[0mread_email_from_gmail\u001b[0m\u001b[0;34m(\u001b[0m\u001b[0;34m)\u001b[0m\u001b[0;34m\u001b[0m\u001b[0;34m\u001b[0m\u001b[0m\n\u001b[0m",
            "\u001b[0;32m<ipython-input-70-c9a0efdb7271>\u001b[0m in \u001b[0;36mread_email_from_gmail\u001b[0;34m()\u001b[0m\n\u001b[1;32m     34\u001b[0m \u001b[0;34m\u001b[0m\u001b[0m\n\u001b[1;32m     35\u001b[0m     \u001b[0;32mexcept\u001b[0m \u001b[0mException\u001b[0m \u001b[0;32mas\u001b[0m \u001b[0me\u001b[0m\u001b[0;34m:\u001b[0m\u001b[0;34m\u001b[0m\u001b[0;34m\u001b[0m\u001b[0m\n\u001b[0;32m---> 36\u001b[0;31m         \u001b[0mtraceback\u001b[0m\u001b[0;34m.\u001b[0m\u001b[0mprint_exc\u001b[0m\u001b[0;34m(\u001b[0m\u001b[0;34m)\u001b[0m\u001b[0;34m\u001b[0m\u001b[0;34m\u001b[0m\u001b[0m\n\u001b[0m\u001b[1;32m     37\u001b[0m         \u001b[0mprint\u001b[0m\u001b[0;34m(\u001b[0m\u001b[0mstr\u001b[0m\u001b[0;34m(\u001b[0m\u001b[0me\u001b[0m\u001b[0;34m)\u001b[0m\u001b[0;34m)\u001b[0m\u001b[0;34m\u001b[0m\u001b[0;34m\u001b[0m\u001b[0m\n\u001b[1;32m     38\u001b[0m \u001b[0;34m\u001b[0m\u001b[0m\n",
            "\u001b[0;31mNameError\u001b[0m: name 'traceback' is not defined"
          ]
        }
      ]
    },
    {
      "cell_type": "code",
      "source": [
        "#7"
      ],
      "metadata": {
        "id": "hRVZlJIPaiPS"
      },
      "execution_count": 50,
      "outputs": []
    },
    {
      "cell_type": "code",
      "source": [
        "import smtplib , ssl\n",
        "port = 465  # For SSL\n",
        "smtp_server = \"smtp.gmail.com\"\n",
        "sender_email = \"ssvarma6264@gmail.com\"  # Enter your address\n",
        "receiver_email = \"saivarmas@google.com\"  # Enter receiver address\n",
        "password = 'wtjtjmrqseinpqkp'\n",
        "message = \"\"\"this is my message from python code \"\"\"\n",
        "\n",
        "context = ssl.create_default_context()\n",
        "with smtplib.SMTP_SSL(smtp_server, port, context=context) as server:\n",
        "    server.login(sender_email, password)\n",
        "    server.sendmail(sender_email, receiver_email, message)"
      ],
      "metadata": {
        "id": "0VG8ThcLaz9z"
      },
      "execution_count": 69,
      "outputs": []
    },
    {
      "cell_type": "code",
      "source": [],
      "metadata": {
        "id": "IAZPL8Vxe29h"
      },
      "execution_count": null,
      "outputs": []
    }
  ]
}