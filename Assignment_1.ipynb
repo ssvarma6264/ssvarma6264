{
  "nbformat": 4,
  "nbformat_minor": 0,
  "metadata": {
    "colab": {
      "provenance": []
    },
    "kernelspec": {
      "name": "python3",
      "display_name": "Python 3"
    },
    "language_info": {
      "name": "python"
    }
  },
  "cells": [
    {
      "cell_type": "code",
      "execution_count": 6,
      "metadata": {
        "colab": {
          "base_uri": "https://localhost:8080/"
        },
        "id": "_pfMBQFOsQ2w",
        "outputId": "88dedaff-0fb0-4756-bdb7-1d4e7ed5c356"
      },
      "outputs": [
        {
          "output_type": "stream",
          "name": "stdout",
          "text": [
            "4\n"
          ]
        }
      ],
      "source": [
        "#2. Take input A and B and print their sum, mul, div, square of the nos.\n",
        "a = 2\n",
        "b = 2\n",
        "print(a + b)"
      ]
    },
    {
      "cell_type": "code",
      "source": [
        "print(a*b)"
      ],
      "metadata": {
        "colab": {
          "base_uri": "https://localhost:8080/"
        },
        "id": "sl8pF-jlsT6F",
        "outputId": "5d7ec7cb-3850-4c11-dd59-8c37cd1e8518"
      },
      "execution_count": 2,
      "outputs": [
        {
          "output_type": "stream",
          "name": "stdout",
          "text": [
            "4\n"
          ]
        }
      ]
    },
    {
      "cell_type": "code",
      "source": [
        "print(a/b)"
      ],
      "metadata": {
        "colab": {
          "base_uri": "https://localhost:8080/"
        },
        "id": "ZwNAvbUCsarL",
        "outputId": "b40eca4b-dcb2-4035-c3e0-1e7fc4203d3b"
      },
      "execution_count": 3,
      "outputs": [
        {
          "output_type": "stream",
          "name": "stdout",
          "text": [
            "1.0\n"
          ]
        }
      ]
    },
    {
      "cell_type": "code",
      "source": [
        "print(a**a)"
      ],
      "metadata": {
        "colab": {
          "base_uri": "https://localhost:8080/"
        },
        "id": "8mRQmGzVsfhY",
        "outputId": "592972dc-ea53-4d5e-8528-59ebfe3d7680"
      },
      "execution_count": 4,
      "outputs": [
        {
          "output_type": "stream",
          "name": "stdout",
          "text": [
            "4\n"
          ]
        }
      ]
    },
    {
      "cell_type": "code",
      "source": [
        "#4. Create email ids with the user inputs. in the following format - \n",
        "lastname.firstname@gmail.com\n",
        "last_name = input(\"enter the last_name : \")\n",
        "first_name = input(\"enter the first_name : \")\n",
        "print(f\"{last_name}.{first_name}@gmail.com\")"
      ],
      "metadata": {
        "colab": {
          "base_uri": "https://localhost:8080/"
        },
        "id": "9s3Y3UMYsnfQ",
        "outputId": "5a68ca3f-50c2-4b96-ff1a-6295592b0b34"
      },
      "execution_count": 5,
      "outputs": [
        {
          "output_type": "stream",
          "name": "stdout",
          "text": [
            "enter the last_name : varma\n",
            "enter the first_name : sai\n",
            "varma.sai@gmail.com\n"
          ]
        }
      ]
    },
    {
      "cell_type": "code",
      "source": [
        "#3. How many reserve keywords are there in python and why we should not use them as a variable name.\n",
        "\"\"\"\n",
        "and\n",
        "except\n",
        "lambda\n",
        "with\n",
        "as\n",
        "finally\n",
        "nonlocal\n",
        "while\n",
        "assert\n",
        "false\n",
        "None\n",
        "yield\n",
        "break\n",
        "for\n",
        "not\n",
        "\n",
        "class\n",
        "from\n",
        "or\n",
        "\n",
        "continue\n",
        "global\n",
        "pass\n",
        "\n",
        "def\n",
        "if\n",
        "raise\n",
        "\n",
        "del\n",
        "import\n",
        "return\n",
        "\n",
        "elif\n",
        "in\n",
        "True\n",
        "\n",
        "else\n",
        "is\n",
        "try\"\"\""
      ],
      "metadata": {
        "colab": {
          "base_uri": "https://localhost:8080/",
          "height": 53
        },
        "id": "kUejgQ7LssFl",
        "outputId": "06555f04-6696-4bbf-f7b0-4cee355ff89d"
      },
      "execution_count": 7,
      "outputs": [
        {
          "output_type": "execute_result",
          "data": {
            "text/plain": [
              "'\\nand\\nexcept\\nlambda\\nwith\\nas\\nfinally\\nnonlocal\\nwhile\\nassert\\nfalse\\nNone\\nyield\\nbreak\\nfor\\nnot\\n\\nclass\\nfrom\\nor\\n\\ncontinue\\nglobal\\npass\\n\\ndef\\nif\\nraise\\n\\ndel\\nimport\\nreturn\\n\\nelif\\nin\\nTrue\\n\\nelse\\nis\\ntry'"
            ],
            "application/vnd.google.colaboratory.intrinsic+json": {
              "type": "string"
            }
          },
          "metadata": {},
          "execution_count": 7
        }
      ]
    },
    {
      "cell_type": "code",
      "source": [
        "#7. Convert the following - \n",
        " # - \"22.4\" into integer\n",
        "  #- \"22\" into complex no.\n"
      ],
      "metadata": {
        "id": "2HrbeY5btZea"
      },
      "execution_count": 9,
      "outputs": []
    },
    {
      "cell_type": "code",
      "source": [
        "A = 22.4\n",
        "print(f\"data type before: {type(A)}, value of A: {A}\")\n",
        "A = int(A)\n",
        "print(f\"data type after: {type(A)}, value of A: {A}\")"
      ],
      "metadata": {
        "colab": {
          "base_uri": "https://localhost:8080/"
        },
        "id": "dYTHFi9vtfl5",
        "outputId": "b64ebd9f-80c2-4f47-cfbb-8ff7e6625553"
      },
      "execution_count": 10,
      "outputs": [
        {
          "output_type": "stream",
          "name": "stdout",
          "text": [
            "data type before: <class 'float'>, value of A: 22.4\n",
            "data type after: <class 'int'>, value of A: 22\n"
          ]
        }
      ]
    },
    {
      "cell_type": "code",
      "source": [
        "A = 22\n",
        "print(f\"data type before: {type(A)}, value of A: {A}\")\n",
        "A = complex(A)\n",
        "print(f\"data type after: {type(A)}, value of A: {A}\")"
      ],
      "metadata": {
        "colab": {
          "base_uri": "https://localhost:8080/"
        },
        "id": "ksVnjF7_tiOl",
        "outputId": "79f6fdc8-5f9e-4858-f159-1b9ccf6afd73"
      },
      "execution_count": 11,
      "outputs": [
        {
          "output_type": "stream",
          "name": "stdout",
          "text": [
            "data type before: <class 'int'>, value of A: 22\n",
            "data type after: <class 'complex'>, value of A: (22+0j)\n"
          ]
        }
      ]
    },
    {
      "cell_type": "code",
      "source": [
        "#6. Take user input (name, address, date of birth etc) to fill a form for your college and print their email IDs\n",
        "name = input(\"enter the name:\")\n",
        "address = input(\"enter the address:\")\n",
        "dob = input(\"enter the dob:\")\n",
        "email_id = input(\"enter the email_id:\")\n",
        "print(f\"\"\"name:{name}\n",
        "      address:{address}\n",
        "      dob:{dob}\n",
        "      email_id:{email_id}\"\"\")"
      ],
      "metadata": {
        "colab": {
          "base_uri": "https://localhost:8080/"
        },
        "id": "Lk4ZgSmLtnH3",
        "outputId": "44a14274-93f6-4983-905c-b029d320ba12"
      },
      "execution_count": 13,
      "outputs": [
        {
          "output_type": "stream",
          "name": "stdout",
          "text": [
            "enter the name:varma\n",
            "enter the address:sompeta\n",
            "enter the dob:15-08-1998\n",
            "enter the email_id:ssvarma6264@gmail.com\n",
            "name:varma\n",
            "      address:sompeta\n",
            "      dob:15-08-1998\n",
            "      email_id:ssvarma6264@gmail.com\n"
          ]
        }
      ]
    },
    {
      "cell_type": "code",
      "source": [
        "#5. Try to print the following lines - \n",
        " # - Hi I'm Sunny\n",
        "  #- My address is 22\\3 \n",
        "  #- I earn 20$ daily."
      ],
      "metadata": {
        "id": "OiTzx70Mt1ZM"
      },
      "execution_count": 14,
      "outputs": []
    },
    {
      "cell_type": "code",
      "source": [
        "print(\"\"\"Hi I'm Sunny\n",
        "My address is 22\\\\3\n",
        "I earn 20$ daily.\"\"\")\n"
      ],
      "metadata": {
        "colab": {
          "base_uri": "https://localhost:8080/"
        },
        "id": "GTTRfAtkt9AO",
        "outputId": "82feec39-1801-449d-dd9f-17f9be876e94"
      },
      "execution_count": 18,
      "outputs": [
        {
          "output_type": "stream",
          "name": "stdout",
          "text": [
            "Hi I'm Sunny\n",
            "My address is 22\\3\n",
            "I earn 20$ daily.\n"
          ]
        }
      ]
    },
    {
      "cell_type": "code",
      "source": [],
      "metadata": {
        "id": "5hSM8tVWud4m"
      },
      "execution_count": null,
      "outputs": []
    }
  ]
}